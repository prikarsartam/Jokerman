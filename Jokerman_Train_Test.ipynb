{
  "nbformat": 4,
  "nbformat_minor": 0,
  "metadata": {
    "colab": {
      "provenance": []
    },
    "kernelspec": {
      "name": "python3",
      "display_name": "Python 3"
    },
    "language_info": {
      "name": "python"
    },
    "accelerator": "GPU"
  },
  "cells": [
    {
      "cell_type": "code",
      "execution_count": 42,
      "metadata": {
        "id": "rg4KGIS_EDDn"
      },
      "outputs": [],
      "source": [
        "import json\n",
        "import tensorflow as tf\n",
        "import random\n",
        "from tensorflow.keras.preprocessing.text import Tokenizer\n",
        "from tensorflow.keras.preprocessing.sequence import pad_sequences\n",
        "\n",
        "from tensorflow.keras.models import load_model\n",
        "from IPython.display import HTML\n",
        "import pandas as pd"
      ]
    },
    {
      "cell_type": "code",
      "source": [
        "vocab_size = 10000\n",
        "embedding_dim = 20\n",
        "max_length = 200\n",
        "trunc_type='post'\n",
        "padding_type='post'\n",
        "oov_tok = \"<OOV>\"\n",
        "training_size = 20000"
      ],
      "metadata": {
        "id": "QLcucxV43fO_"
      },
      "execution_count": 2,
      "outputs": []
    },
    {
      "cell_type": "code",
      "source": [
        "!wget --no-check-certificate  https://raw.githubusercontent.com/prikarsartam/Jokerman/main/Jokerman_Dataset.json"
      ],
      "metadata": {
        "colab": {
          "base_uri": "https://localhost:8080/"
        },
        "id": "Cv89PSabHAL6",
        "outputId": "2f44aeb5-5925-4935-a6b8-14585577bfaa"
      },
      "execution_count": 3,
      "outputs": [
        {
          "output_type": "stream",
          "name": "stdout",
          "text": [
            "--2022-09-18 16:00:59--  https://raw.githubusercontent.com/prikarsartam/Jokerman/main/Jokerman_Dataset.json\n",
            "Resolving raw.githubusercontent.com (raw.githubusercontent.com)... 185.199.108.133, 185.199.109.133, 185.199.110.133, ...\n",
            "Connecting to raw.githubusercontent.com (raw.githubusercontent.com)|185.199.108.133|:443... connected.\n",
            "HTTP request sent, awaiting response... 200 OK\n",
            "Length: 6057046 (5.8M) [text/plain]\n",
            "Saving to: ‘Jokerman_Dataset.json’\n",
            "\n",
            "Jokerman_Dataset.js 100%[===================>]   5.78M  --.-KB/s    in 0.06s   \n",
            "\n",
            "2022-09-18 16:01:00 (94.2 MB/s) - ‘Jokerman_Dataset.json’ saved [6057046/6057046]\n",
            "\n"
          ]
        }
      ]
    },
    {
      "cell_type": "code",
      "source": [
        "datastore = [json.loads(line) for line in open('Jokerman_Dataset.json', 'r')]\n",
        "\n",
        "sentences = []\n",
        "labels = []\n",
        "\n",
        "for item in datastore:\n",
        "    sentences.append(item['headline'])\n",
        "    labels.append(item['is_sarcastic'])"
      ],
      "metadata": {
        "id": "uyslgsiOHbYt"
      },
      "execution_count": 4,
      "outputs": []
    },
    {
      "cell_type": "code",
      "source": [
        "def flip(num):\n",
        "  if num!=0:\n",
        "    return 0\n",
        "  elif num==0:\n",
        "    return 1\n",
        "  else:\n",
        "    return 0"
      ],
      "metadata": {
        "id": "9mmlDdQWnMC_"
      },
      "execution_count": 74,
      "outputs": []
    },
    {
      "cell_type": "code",
      "source": [
        "flip(1)"
      ],
      "metadata": {
        "colab": {
          "base_uri": "https://localhost:8080/"
        },
        "id": "WRE3EWBgnZb2",
        "outputId": "3fad8535-cba5-481d-db0c-4dccb8cdf245"
      },
      "execution_count": 76,
      "outputs": [
        {
          "output_type": "execute_result",
          "data": {
            "text/plain": [
              "0"
            ]
          },
          "metadata": {},
          "execution_count": 76
        }
      ]
    },
    {
      "cell_type": "code",
      "source": [
        "def Random_N_generator(MAX,N):\n",
        "  list_forus = []\n",
        "  for i in range(0,N):\n",
        "    list_forus.append(random.randint(0,MAX-1))\n",
        "  return list_forus\n",
        "\n",
        "JsoNBoy = {\"sentence\": [] , \"has_Semantic_Integrity\":[], \"Place\":[] }\n",
        "\n",
        "rand_list = Random_N_generator(training_size, 10)\n",
        "\n",
        "for i in range(0,10):    # put the number of iterations necessary\n",
        "  JsoNBoy[\"sentence\"].append(sentences[int(rand_list[i])])\n",
        "  JsoNBoy[\"has_Semantic_Integrity\"].append(flip(int(labels[rand_list[i]])))\n",
        "  JsoNBoy[\"Place\"].append(int(rand_list[i]))\n",
        "\n",
        "d_f = pd.DataFrame.from_dict(JsoNBoy, orient='index')\n",
        "d_f = d_f.transpose()\n",
        "HTML(d_f.to_html())"
      ],
      "metadata": {
        "colab": {
          "base_uri": "https://localhost:8080/",
          "height": 363
        },
        "id": "DfJF1WAOj4Bw",
        "outputId": "262df949-b95f-4c56-a16d-835630992db4"
      },
      "execution_count": 109,
      "outputs": [
        {
          "output_type": "execute_result",
          "data": {
            "text/plain": [
              "<IPython.core.display.HTML object>"
            ],
            "text/html": [
              "<table border=\"1\" class=\"dataframe\">\n",
              "  <thead>\n",
              "    <tr style=\"text-align: right;\">\n",
              "      <th></th>\n",
              "      <th>sentence</th>\n",
              "      <th>has_Semantic_Integrity</th>\n",
              "      <th>Place</th>\n",
              "    </tr>\n",
              "  </thead>\n",
              "  <tbody>\n",
              "    <tr>\n",
              "      <th>0</th>\n",
              "      <td>man coasting through life entirely on benefit of doubt</td>\n",
              "      <td>0</td>\n",
              "      <td>17613</td>\n",
              "    </tr>\n",
              "    <tr>\n",
              "      <th>1</th>\n",
              "      <td>asian-american caucus demands investigation after chinese-american scientist accused of spying</td>\n",
              "      <td>1</td>\n",
              "      <td>6533</td>\n",
              "    </tr>\n",
              "    <tr>\n",
              "      <th>2</th>\n",
              "      <td>wall wishes it were load-bearing</td>\n",
              "      <td>0</td>\n",
              "      <td>6347</td>\n",
              "    </tr>\n",
              "    <tr>\n",
              "      <th>3</th>\n",
              "      <td>unidentified yowling animal in carrier apparently named kiwi</td>\n",
              "      <td>0</td>\n",
              "      <td>15741</td>\n",
              "    </tr>\n",
              "    <tr>\n",
              "      <th>4</th>\n",
              "      <td>eric's bogosian's operation nemesis: can a genocide ever truly be avenged?</td>\n",
              "      <td>1</td>\n",
              "      <td>9170</td>\n",
              "    </tr>\n",
              "    <tr>\n",
              "      <th>5</th>\n",
              "      <td>marco rubio wins puerto rico primary</td>\n",
              "      <td>1</td>\n",
              "      <td>2302</td>\n",
              "    </tr>\n",
              "    <tr>\n",
              "      <th>6</th>\n",
              "      <td>john boehner: we should know if paul ryan is running for speaker soon</td>\n",
              "      <td>1</td>\n",
              "      <td>3824</td>\n",
              "    </tr>\n",
              "    <tr>\n",
              "      <th>7</th>\n",
              "      <td>the two opposing world views in the white house</td>\n",
              "      <td>1</td>\n",
              "      <td>4596</td>\n",
              "    </tr>\n",
              "    <tr>\n",
              "      <th>8</th>\n",
              "      <td>embracing the darkness: a weird and wonderful chat with the amazing aubrey plaza</td>\n",
              "      <td>1</td>\n",
              "      <td>11485</td>\n",
              "    </tr>\n",
              "    <tr>\n",
              "      <th>9</th>\n",
              "      <td>how i became that middle-aged woman who uses baby talk with her dogs</td>\n",
              "      <td>1</td>\n",
              "      <td>2389</td>\n",
              "    </tr>\n",
              "  </tbody>\n",
              "</table>"
            ]
          },
          "metadata": {},
          "execution_count": 109
        }
      ]
    },
    {
      "cell_type": "code",
      "source": [
        "int(Random_N_generator(training_size, 10)[])"
      ],
      "metadata": {
        "colab": {
          "base_uri": "https://localhost:8080/"
        },
        "id": "UnZGadOamioJ",
        "outputId": "94f9bd99-d8ff-401d-f283-8895a359b9b2"
      },
      "execution_count": 67,
      "outputs": [
        {
          "output_type": "execute_result",
          "data": {
            "text/plain": [
              "663"
            ]
          },
          "metadata": {},
          "execution_count": 67
        }
      ]
    },
    {
      "cell_type": "code",
      "source": [
        "sentences[int(Random_N_generator(training_size, 10)[i])]"
      ],
      "metadata": {
        "colab": {
          "base_uri": "https://localhost:8080/",
          "height": 35
        },
        "id": "iy6edzQ1mZDS",
        "outputId": "9304d291-ae2c-4c1e-fc80-a1b40f43cfbc"
      },
      "execution_count": 68,
      "outputs": [
        {
          "output_type": "execute_result",
          "data": {
            "text/plain": [
              "'unpopular opinion: why i think the sat is a good thing'"
            ],
            "application/vnd.google.colaboratory.intrinsic+json": {
              "type": "string"
            }
          },
          "metadata": {},
          "execution_count": 68
        }
      ]
    },
    {
      "cell_type": "code",
      "source": [
        "\n",
        "# JsoNBoy[\"sentence\"].append('fucks')\n",
        "# JsoNBoy[\"sentence\"][0]"
      ],
      "metadata": {
        "id": "QASF11hbkvh7"
      },
      "execution_count": 58,
      "outputs": []
    },
    {
      "cell_type": "code",
      "source": [
        "training_sentences = sentences[0:training_size]\n",
        "testing_sentences = sentences[training_size:]\n",
        "\n",
        "training_labels = labels[0:training_size]\n",
        "testing_labels = labels[training_size:]"
      ],
      "metadata": {
        "id": "4HGdfGXSIYp7"
      },
      "execution_count": 7,
      "outputs": []
    },
    {
      "cell_type": "code",
      "source": [
        "tokenizer = Tokenizer(num_words=vocab_size, oov_token=oov_tok)\n",
        "tokenizer.fit_on_texts(training_sentences)\n",
        "\n",
        "word_index = tokenizer.word_index\n",
        "\n",
        "training_sequences = tokenizer.texts_to_sequences(training_sentences)\n",
        "training_padded = pad_sequences(training_sequences, maxlen=max_length, padding=padding_type, truncating=trunc_type)\n",
        "\n",
        "testing_sequences = tokenizer.texts_to_sequences(testing_sentences)\n",
        "testing_padded = pad_sequences(testing_sequences, maxlen=max_length, padding=padding_type, truncating=trunc_type)"
      ],
      "metadata": {
        "id": "nk09YR96IdD8"
      },
      "execution_count": 8,
      "outputs": []
    },
    {
      "cell_type": "code",
      "source": [
        "# Need this block to get it to work with TensorFlow 2.x\n",
        "import numpy as np\n",
        "training_padded = np.array(training_padded)\n",
        "training_labels = np.array(training_labels)\n",
        "testing_padded = np.array(testing_padded)\n",
        "testing_labels = np.array(testing_labels)"
      ],
      "metadata": {
        "id": "Qf-djg0GIf9u"
      },
      "execution_count": 9,
      "outputs": []
    },
    {
      "cell_type": "code",
      "source": [
        "# LSTM model with comparetively HIGH number of parameters \n",
        "\n",
        "model = tf.keras.Sequential([\n",
        "    tf.keras.layers.Embedding(vocab_size, embedding_dim, input_length=max_length),\n",
        "    tf.keras.layers.Bidirectional(tf.keras.layers.LSTM(512)),\n",
        "    tf.keras.layers.Dense(64, activation='relu'),\n",
        "    tf.keras.layers.Dense(1, activation='sigmoid')\n",
        "])\n",
        "\n",
        "model.compile(loss='binary_crossentropy',optimizer='adam',metrics=['accuracy'])\n",
        "model.summary()"
      ],
      "metadata": {
        "colab": {
          "base_uri": "https://localhost:8080/"
        },
        "id": "C2_2kgnnIigY",
        "outputId": "e4222949-9b57-4a3c-a5de-33f5bc4f7ce2"
      },
      "execution_count": 14,
      "outputs": [
        {
          "output_type": "stream",
          "name": "stdout",
          "text": [
            "Model: \"sequential_4\"\n",
            "_________________________________________________________________\n",
            " Layer (type)                Output Shape              Param #   \n",
            "=================================================================\n",
            " embedding_4 (Embedding)     (None, 200, 20)           200000    \n",
            "                                                                 \n",
            " bidirectional_7 (Bidirectio  (None, 1024)             2183168   \n",
            " nal)                                                            \n",
            "                                                                 \n",
            " dense_8 (Dense)             (None, 64)                65600     \n",
            "                                                                 \n",
            " dense_9 (Dense)             (None, 1)                 65        \n",
            "                                                                 \n",
            "=================================================================\n",
            "Total params: 2,448,833\n",
            "Trainable params: 2,448,833\n",
            "Non-trainable params: 0\n",
            "_________________________________________________________________\n"
          ]
        }
      ]
    },
    {
      "cell_type": "code",
      "source": [
        "num_epochs = 30\n",
        "history = model.fit(training_padded, training_labels, epochs=num_epochs, validation_data=(testing_padded, testing_labels), verbose=2)"
      ],
      "metadata": {
        "colab": {
          "base_uri": "https://localhost:8080/"
        },
        "id": "060mryJsIkrN",
        "outputId": "6cf3dd99-c087-44e0-e15e-e9c7235459c3"
      },
      "execution_count": 15,
      "outputs": [
        {
          "output_type": "stream",
          "name": "stdout",
          "text": [
            "Epoch 1/30\n",
            "625/625 - 43s - loss: 0.4148 - accuracy: 0.7941 - val_loss: 0.3248 - val_accuracy: 0.8558 - 43s/epoch - 69ms/step\n",
            "Epoch 2/30\n",
            "625/625 - 35s - loss: 0.2221 - accuracy: 0.9103 - val_loss: 0.3320 - val_accuracy: 0.8595 - 35s/epoch - 56ms/step\n",
            "Epoch 3/30\n",
            "625/625 - 36s - loss: 0.1370 - accuracy: 0.9495 - val_loss: 0.3771 - val_accuracy: 0.8493 - 36s/epoch - 57ms/step\n",
            "Epoch 4/30\n",
            "625/625 - 35s - loss: 0.0891 - accuracy: 0.9681 - val_loss: 0.4897 - val_accuracy: 0.8457 - 35s/epoch - 57ms/step\n",
            "Epoch 5/30\n",
            "625/625 - 36s - loss: 0.0630 - accuracy: 0.9778 - val_loss: 0.5266 - val_accuracy: 0.8400 - 36s/epoch - 57ms/step\n",
            "Epoch 6/30\n",
            "625/625 - 35s - loss: 0.2060 - accuracy: 0.9124 - val_loss: 0.4721 - val_accuracy: 0.8000 - 35s/epoch - 57ms/step\n",
            "Epoch 7/30\n",
            "625/625 - 35s - loss: 0.1567 - accuracy: 0.9374 - val_loss: 0.6520 - val_accuracy: 0.8051 - 35s/epoch - 57ms/step\n",
            "Epoch 8/30\n",
            "625/625 - 36s - loss: 0.0663 - accuracy: 0.9752 - val_loss: 0.6004 - val_accuracy: 0.8372 - 36s/epoch - 57ms/step\n",
            "Epoch 9/30\n",
            "625/625 - 35s - loss: 0.0361 - accuracy: 0.9870 - val_loss: 0.8445 - val_accuracy: 0.8232 - 35s/epoch - 57ms/step\n",
            "Epoch 10/30\n",
            "625/625 - 35s - loss: 0.0244 - accuracy: 0.9914 - val_loss: 0.8911 - val_accuracy: 0.8285 - 35s/epoch - 57ms/step\n",
            "Epoch 11/30\n",
            "625/625 - 36s - loss: 0.0215 - accuracy: 0.9930 - val_loss: 0.9667 - val_accuracy: 0.8314 - 36s/epoch - 57ms/step\n",
            "Epoch 12/30\n",
            "625/625 - 36s - loss: 0.0101 - accuracy: 0.9971 - val_loss: 1.0739 - val_accuracy: 0.8308 - 36s/epoch - 57ms/step\n",
            "Epoch 13/30\n",
            "625/625 - 36s - loss: 0.0111 - accuracy: 0.9965 - val_loss: 1.1177 - val_accuracy: 0.8233 - 36s/epoch - 57ms/step\n",
            "Epoch 14/30\n",
            "625/625 - 36s - loss: 0.0138 - accuracy: 0.9949 - val_loss: 1.2111 - val_accuracy: 0.8264 - 36s/epoch - 57ms/step\n",
            "Epoch 15/30\n",
            "625/625 - 36s - loss: 0.0195 - accuracy: 0.9935 - val_loss: 1.0044 - val_accuracy: 0.8276 - 36s/epoch - 57ms/step\n",
            "Epoch 16/30\n",
            "625/625 - 36s - loss: 0.0094 - accuracy: 0.9968 - val_loss: 1.0335 - val_accuracy: 0.8291 - 36s/epoch - 57ms/step\n",
            "Epoch 17/30\n",
            "625/625 - 36s - loss: 0.0046 - accuracy: 0.9983 - val_loss: 1.2958 - val_accuracy: 0.8232 - 36s/epoch - 57ms/step\n",
            "Epoch 18/30\n",
            "625/625 - 35s - loss: 0.0035 - accuracy: 0.9992 - val_loss: 1.3105 - val_accuracy: 0.8285 - 35s/epoch - 57ms/step\n",
            "Epoch 19/30\n",
            "625/625 - 36s - loss: 0.0102 - accuracy: 0.9967 - val_loss: 0.6574 - val_accuracy: 0.8264 - 36s/epoch - 57ms/step\n",
            "Epoch 20/30\n",
            "625/625 - 36s - loss: 0.0096 - accuracy: 0.9973 - val_loss: 1.1314 - val_accuracy: 0.8294 - 36s/epoch - 57ms/step\n",
            "Epoch 21/30\n",
            "625/625 - 36s - loss: 0.0053 - accuracy: 0.9983 - val_loss: 1.1611 - val_accuracy: 0.8293 - 36s/epoch - 57ms/step\n",
            "Epoch 22/30\n",
            "625/625 - 36s - loss: 0.0050 - accuracy: 0.9983 - val_loss: 1.1234 - val_accuracy: 0.8284 - 36s/epoch - 58ms/step\n",
            "Epoch 23/30\n",
            "625/625 - 36s - loss: 0.0044 - accuracy: 0.9988 - val_loss: 1.2068 - val_accuracy: 0.8286 - 36s/epoch - 57ms/step\n",
            "Epoch 24/30\n",
            "625/625 - 36s - loss: 0.0017 - accuracy: 0.9996 - val_loss: 1.3924 - val_accuracy: 0.8314 - 36s/epoch - 57ms/step\n",
            "Epoch 25/30\n",
            "625/625 - 36s - loss: 0.0012 - accuracy: 0.9997 - val_loss: 1.4486 - val_accuracy: 0.8293 - 36s/epoch - 57ms/step\n",
            "Epoch 26/30\n",
            "625/625 - 36s - loss: 0.0038 - accuracy: 0.9988 - val_loss: 1.2481 - val_accuracy: 0.8276 - 36s/epoch - 57ms/step\n",
            "Epoch 27/30\n",
            "625/625 - 36s - loss: 0.0047 - accuracy: 0.9984 - val_loss: 1.3496 - val_accuracy: 0.8213 - 36s/epoch - 57ms/step\n",
            "Epoch 28/30\n",
            "625/625 - 36s - loss: 0.0058 - accuracy: 0.9983 - val_loss: 1.2730 - val_accuracy: 0.8240 - 36s/epoch - 57ms/step\n",
            "Epoch 29/30\n",
            "625/625 - 36s - loss: 0.0023 - accuracy: 0.9993 - val_loss: 1.3647 - val_accuracy: 0.8305 - 36s/epoch - 57ms/step\n",
            "Epoch 30/30\n",
            "625/625 - 35s - loss: 0.0016 - accuracy: 0.9995 - val_loss: 1.3874 - val_accuracy: 0.8242 - 35s/epoch - 57ms/step\n"
          ]
        }
      ]
    },
    {
      "cell_type": "code",
      "source": [
        "import matplotlib.pyplot as plt\n",
        "\n",
        "\n",
        "def plot_graphs(history, string):\n",
        "  plt.plot(history.history[string])\n",
        "  plt.plot(history.history['val_'+string])\n",
        "  plt.xlabel(\"Epochs\")\n",
        "  plt.ylabel(string)\n",
        "  plt.legend([string, 'val_'+string])\n",
        "  plt.show()\n",
        "  \n",
        "plot_graphs(history, \"accuracy\")\n",
        "print(\"\\n\")\n",
        "plot_graphs(history, \"loss\")"
      ],
      "metadata": {
        "colab": {
          "base_uri": "https://localhost:8080/",
          "height": 576
        },
        "id": "uCACR_8zIpGN",
        "outputId": "814b6a4b-0c0f-4dda-b6ac-4f0da6ca9594"
      },
      "execution_count": 18,
      "outputs": [
        {
          "output_type": "display_data",
          "data": {
            "text/plain": [
              "<Figure size 432x288 with 1 Axes>"
            ],
            "image/png": "[encoded data removed]"
          },
          "metadata": {
            "needs_background": "light"
          }
        },
        {
          "output_type": "stream",
          "name": "stdout",
          "text": [
            "\n",
            "\n"
          ]
        },
        {
          "output_type": "display_data",
          "data": {
            "text/plain": [
              "<Figure size 432x288 with 1 Axes>"
            ],
            "image/png": "[encoded data removed]"
          },
          "metadata": {
            "needs_background": "light"
          }
        }
      ]
    },
    {
      "cell_type": "code",
      "source": [
        "e = model.layers[0]\n",
        "weights = e.get_weights()[0]\n",
        "\n",
        "print(weights)\n",
        "\n",
        "print(weights.shape) # shape: (vocab_size, embedding_dim)"
      ],
      "metadata": {
        "colab": {
          "base_uri": "https://localhost:8080/"
        },
        "id": "eCVgt6BBJ9NV",
        "outputId": "033e1d46-768f-4c1a-ec2c-872fe47d2c0e"
      },
      "execution_count": null,
      "outputs": [
        {
          "output_type": "stream",
          "name": "stdout",
          "text": [
            "[[-0.0786994   0.11598209 -0.03092725 ... -0.0640559   0.01913758\n",
            "   0.02944556]\n",
            " [-0.02174035  0.02149551 -0.01789952 ... -0.00620461 -0.00786921\n",
            "  -0.02823145]\n",
            " [-0.07239373 -0.02909514 -0.08607303 ... -0.05607282  0.056141\n",
            "   0.01547315]\n",
            " ...\n",
            " [ 0.03881737 -0.03345536 -0.03361979 ...  0.04983361  0.04992137\n",
            "   0.00922491]\n",
            " [-0.12516516  0.03565587  0.0922006  ... -0.17086981 -0.09787909\n",
            "  -0.1260984 ]\n",
            " [-0.13063666  0.09934385  0.13815856 ... -0.1280208  -0.12494733\n",
            "  -0.21007365]]\n",
            "(10000, 20)\n"
          ]
        }
      ]
    },
    {
      "cell_type": "code",
      "source": [
        "model.save('Jokerman.h5')"
      ],
      "metadata": {
        "id": "VPkUSI7aKCYY"
      },
      "execution_count": 17,
      "outputs": []
    },
    {
      "cell_type": "code",
      "source": [
        "saved_model = load_model('/content/Jokerman.h5')"
      ],
      "metadata": {
        "id": "3GKO0X9CL3rc"
      },
      "execution_count": 104,
      "outputs": []
    },
    {
      "cell_type": "code",
      "source": [
        "def normalized_inverse(float_num):\n",
        "  return (1/float_num)\n",
        "\n",
        "\n",
        "def Run_Jokerman():\n",
        " # saved_model = load_model(PATH_To_Model_h5_File)\n",
        "  no_of_sentences = int(input(\"Enter the number of sentences you want as input: \"))\n",
        "\n",
        "  sentence = []\n",
        "  print(\"\\n\")\n",
        "  for i in range(0,no_of_sentences):\n",
        "    inpt = input(str(i+1)+ \"-th sentence: \")\n",
        "    sentence.append(str(inpt))\n",
        "\n",
        "  print(\"\\n\\n\")\n",
        "\n",
        "  # sentence = [\"granny starting to fear spiders in the garden might be real\", \"game of thrones season finale showing this sunday night\"]\n",
        "\n",
        "  sequences = tokenizer.texts_to_sequences(sentence)\n",
        "  padded = pad_sequences(sequences, maxlen=max_length, padding=padding_type, truncating=trunc_type)\n",
        "  result = saved_model.predict(padded)\n",
        "  print(\"\\n\")\n",
        "  result\n",
        "\n",
        "  float_result=[]\n",
        "\n",
        "  for j in range(0,len(result)):\n",
        "    float_result.append(str(float(normalized_inverse(result[i]))))\n",
        "\n",
        "  JsoNBoy = {\"Syntagma\":sentence, \"Semantic Integrity\":float_result\n",
        "                      }\n",
        "  df = pd.DataFrame.from_dict(JsoNBoy, orient='index')\n",
        "  df = df.transpose()\n",
        "  return HTML(df.to_html()) \n",
        "  print(\"\\n\")"
      ],
      "metadata": {
        "id": "oHFX5FbCL-fL"
      },
      "execution_count": 101,
      "outputs": []
    },
    {
      "cell_type": "code",
      "source": [
        "Run_Jokerman()"
      ],
      "metadata": {
        "id": "FkyId-PvqAH4"
      },
      "execution_count": null,
      "outputs": []
    }
  ]
}